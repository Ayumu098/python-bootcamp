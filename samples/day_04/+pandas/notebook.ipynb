{
 "cells": [
  {
   "cell_type": "markdown",
   "id": "fc0f3f30",
   "metadata": {},
   "source": [
    "# Pandas Demo\n",
    "\n",
    "Welcome to this hands-on notebook on **pandas**, one of the most essential libraries in Python for data manipulation and analysis. In this session, you'll learn how to:\n",
    "\n",
    "- 📥 **Read** CSV or Excel files into DataFrames  \n",
    "- 🔎 **Filter** rows and select columns  \n",
    "- 🛠️ **Process** and clean data (e.g., renaming, filling nulls, sorting)  \n",
    "- 📈 **Visualize** trends and patterns using built-in plotting + `seaborn`\n",
    "\n",
    "Before You Begin: Tips for Using Jupyter Notebooks\n",
    "\n",
    "- 🧪 Run cells with `Shift + Enter`  \n",
    "- 📝 You can **edit markdown** cells (like this one) to add notes or questions  \n",
    "- 🧹 Restart the kernel if you get weird errors (from the top menu: Kernel > Restart)  \n",
    "- 🐞 If something breaks, isolate the cell that causes it. Notebooks remember **state**, so outputs might not reflect cell order.\n"
   ]
  },
  {
   "cell_type": "markdown",
   "id": "3bb36891",
   "metadata": {},
   "source": [
    "## Data Loading\n",
    "\n",
    "One of the key strengths of pandas for loading tabular data over standard tools like openpyxl is its speed and efficiency while maintaining convenience and functionality"
   ]
  },
  {
   "cell_type": "markdown",
   "id": "2f125ffe",
   "metadata": {},
   "source": [
    "### Reading Data\n",
    "\n",
    "Pandas converts tabular data to data frames that are convenient to read and access\n"
   ]
  },
  {
   "cell_type": "code",
   "execution_count": null,
   "id": "e807aed0",
   "metadata": {},
   "outputs": [],
   "source": [
    "import pandas as pd"
   ]
  },
  {
   "cell_type": "code",
   "execution_count": null,
   "id": "0f6f899b",
   "metadata": {},
   "outputs": [],
   "source": [
    "df = pd.read_csv(\"tickets.csv\")"
   ]
  },
  {
   "cell_type": "code",
   "execution_count": null,
   "id": "ad4bad62",
   "metadata": {},
   "outputs": [],
   "source": [
    "display(df)"
   ]
  },
  {
   "cell_type": "code",
   "execution_count": null,
   "id": "1f0db563",
   "metadata": {},
   "outputs": [],
   "source": [
    "display(df.info())"
   ]
  },
  {
   "cell_type": "code",
   "execution_count": null,
   "id": "9dece211",
   "metadata": {},
   "outputs": [],
   "source": [
    "display(df.describe())"
   ]
  },
  {
   "cell_type": "markdown",
   "id": "ac6bd9ac",
   "metadata": {},
   "source": [
    "### Dataframe Columns\n",
    "\n",
    "Pandas makes column access very convenient using the indexing operation"
   ]
  },
  {
   "cell_type": "code",
   "execution_count": null,
   "id": "aac5bb3c",
   "metadata": {},
   "outputs": [],
   "source": [
    "import pandas as pd"
   ]
  },
  {
   "cell_type": "code",
   "execution_count": null,
   "id": "75bbb20c",
   "metadata": {},
   "outputs": [],
   "source": [
    "df = pd.read_excel(\"tickets.xlsx\", sheet_name=\"Tickets\")"
   ]
  },
  {
   "cell_type": "code",
   "execution_count": null,
   "id": "8091dd02",
   "metadata": {},
   "outputs": [],
   "source": [
    "display(df.columns)"
   ]
  },
  {
   "cell_type": "code",
   "execution_count": null,
   "id": "a5402b29",
   "metadata": {},
   "outputs": [],
   "source": [
    "display(df[\"Priority\"])"
   ]
  },
  {
   "cell_type": "code",
   "execution_count": null,
   "id": "43bd124d",
   "metadata": {},
   "outputs": [],
   "source": [
    "display(df[\"Priority\"].unique())"
   ]
  },
  {
   "cell_type": "code",
   "execution_count": null,
   "id": "c300a52b",
   "metadata": {},
   "outputs": [],
   "source": [
    "display(df[\"Priority\"].value_counts())"
   ]
  },
  {
   "cell_type": "markdown",
   "id": "14ae563b",
   "metadata": {},
   "source": [
    "### Dataframe New Columns\n",
    "\n",
    "Pandas specializes in creating new columns using data from other columns"
   ]
  },
  {
   "cell_type": "code",
   "execution_count": null,
   "id": "cd5bcfb1",
   "metadata": {},
   "outputs": [],
   "source": [
    "import pandas as pd"
   ]
  },
  {
   "cell_type": "code",
   "execution_count": null,
   "id": "51d75f57",
   "metadata": {},
   "outputs": [],
   "source": [
    "df = pd.read_excel(\"tickets.xlsx\", sheet_name=\"Tickets\")"
   ]
  },
  {
   "cell_type": "code",
   "execution_count": null,
   "id": "f7c53dbc",
   "metadata": {},
   "outputs": [],
   "source": [
    "df[\"Duration\"] = df[\"End\"] - df[\"Start\"]\n",
    "df[\"Duration\"] = df[\"Duration\"].dt.total_seconds()\n",
    "df[\"Duration\"] = df[\"Duration\"] / 3600\n",
    "\n",
    "display(df)"
   ]
  },
  {
   "cell_type": "markdown",
   "id": "2ae5d2fa",
   "metadata": {},
   "source": [
    "## Data Processes\n",
    "\n",
    "Common operations and methods for data preparation"
   ]
  },
  {
   "cell_type": "markdown",
   "id": "7dd9a667",
   "metadata": {},
   "source": [
    "### Common Data Cleaning Techniques"
   ]
  },
  {
   "cell_type": "code",
   "execution_count": null,
   "id": "723ba1ad",
   "metadata": {},
   "outputs": [],
   "source": [
    "import pandas as pd\n",
    "\n",
    "df = pd.read_excel(\"tickets.xlsx\", sheet_name=\"Tickets\")\n",
    "df.columns = df.columns.str.strip().str.title()\n",
    "\n",
    "df[\"Department\"] = df[\"Department\"].str.strip().str.title()\n",
    "df[\"Status\"].fillna(\"Unknown\", inplace=True)\n",
    "df.dropna(subset=[\"Priority\"], inplace=True)\n",
    "\n",
    "display(df)"
   ]
  },
  {
   "cell_type": "markdown",
   "id": "0d4aa1d4",
   "metadata": {},
   "source": [
    "### Sorting by Column"
   ]
  },
  {
   "cell_type": "markdown",
   "id": "71bc33c1",
   "metadata": {},
   "source": [
    "import pandas as pd\n",
    "\n",
    "df = pd.read_excel(\"tickets.xlsx\", sheet_name=\"Tickets\")\n",
    "df.columns = df.columns.str.strip().str.title()\n",
    "\n",
    "df[\"Department\"] = df[\"Department\"].str.strip().str.title()\n",
    "df[\"Status\"].fillna(\"Unknown\", inplace=True)\n",
    "df.dropna(subset=[\"Priority\"], inplace=True)\n",
    "\n",
    "df.sort_values(\n",
    "    by='year_established', ascending=False)\n",
    "\n",
    "display(df)"
   ]
  },
  {
   "cell_type": "markdown",
   "id": "28f91fda",
   "metadata": {},
   "source": [
    "### Saving in a New Excel File\n"
   ]
  },
  {
   "cell_type": "code",
   "execution_count": null,
   "id": "888b1992",
   "metadata": {},
   "outputs": [],
   "source": [
    "!pip install openpyxl"
   ]
  },
  {
   "cell_type": "code",
   "execution_count": null,
   "id": "b3118b6a",
   "metadata": {},
   "outputs": [],
   "source": [
    "import pandas as pd\n",
    "\n",
    "df = pd.read_excel(\"tickets.xlsx\", sheet_name=\"Tickets\")\n",
    "df.columns = df.columns.str.strip().str.title()\n",
    "\n",
    "df[\"Department\"] = df[\"Department\"].str.strip().str.title()\n",
    "df[\"Status\"].fillna(\"Unknown\", inplace=True)\n",
    "df.dropna(subset=[\"Priority\"], inplace=True)\n",
    "\n",
    "df.sort_values(\n",
    "by='year_established', ascending=False)\n",
    "\n",
    "display(df)\n",
    "df.to_excel(\"tick_new.xlsx\", sheet_name=\"Tickets\", index=False)"
   ]
  },
  {
   "cell_type": "markdown",
   "id": "301690dd",
   "metadata": {},
   "source": [
    "### Appending to an Existing Excel File"
   ]
  },
  {
   "cell_type": "code",
   "execution_count": null,
   "id": "a9ca0ca9",
   "metadata": {},
   "outputs": [],
   "source": [
    "import pandas as pd\n",
    "\n",
    "df = pd.read_excel(\"tickets.xlsx\", sheet_name=\"Tickets\")\n",
    "df.columns = df.columns.str.strip().str.title()\n",
    "\n",
    "df[\"Department\"] = df[\"Department\"].str.strip().str.title()\n",
    "df[\"Status\"].fillna(\"Unknown\", inplace=True)\n",
    "df.dropna(subset=[\"Priority\"], inplace=True)\n",
    "\n",
    "df.sort_values(\n",
    "    by='year_established', ascending=False)\n",
    "\n",
    "display(df)\n",
    "with pd.ExcelWriter('tickets.xlsx', mode='a') as writer:\n",
    "    df.to_excel(writer, sheet_name=\"Clean Tickets\", index=False)\n",
    "\n",
    "\n"
   ]
  },
  {
   "cell_type": "markdown",
   "id": "16638771",
   "metadata": {},
   "source": [
    "### Pandas Filtering"
   ]
  },
  {
   "cell_type": "code",
   "execution_count": null,
   "id": "6ed83437",
   "metadata": {},
   "outputs": [],
   "source": [
    "import pandas as pd\n",
    "\n",
    "df = pd.read_excel(\"accounts.xlsx\", sheet_name=\"Logs\")\n",
    "\n",
    "high_revenue = df[df['Revenue'] > 100_000_000]\n",
    "tech_sector = df[df['Sector'] == \"Technology\"]\n",
    "\n",
    "display(df)\n",
    "with pd.ExcelWriter('accounts.xlsx', mode='a') as writer:\n",
    "    tech_sector.to_excel(writer, sheet_name=\"Tech\", index=False)\n",
    "\thigh_revenue.to_excel(writer, sheet_name=\"Top\", index=False)"
   ]
  },
  {
   "cell_type": "markdown",
   "id": "0f197f0f",
   "metadata": {},
   "source": [
    "### Grouping and Aggregation"
   ]
  },
  {
   "cell_type": "code",
   "execution_count": null,
   "id": "141fbce0",
   "metadata": {},
   "outputs": [],
   "source": [
    "import pandas as pd\n",
    "\n",
    "df = pd.read_excel(\"accounts.xlsx\", sheet_name=\"Logs\")\n",
    "\n",
    "avg_revenue = df.groupby('Sector')['Revenue'].mean()\n",
    "total_employees = df.groupby('Sector')['Employees'].sum()\n",
    "sector_count = df['Sector'].value_counts()\n",
    "\n",
    "print('Average Revenue', avg_revenue)\n",
    "print('Total Employees', total_employees)\n",
    "print('Sector Count', sector_count)"
   ]
  },
  {
   "cell_type": "markdown",
   "id": "3f8af0ff",
   "metadata": {},
   "source": [
    "## Data Visualization"
   ]
  },
  {
   "cell_type": "code",
   "execution_count": null,
   "id": "f661daed",
   "metadata": {},
   "outputs": [],
   "source": [
    "!pip install matplotlib"
   ]
  },
  {
   "cell_type": "markdown",
   "id": "153bc884",
   "metadata": {},
   "source": [
    "### Histogram (Number Distribution)"
   ]
  },
  {
   "cell_type": "code",
   "execution_count": null,
   "id": "ea415e0a",
   "metadata": {},
   "outputs": [],
   "source": [
    "import matplotlib.pyplot as plt\n",
    "import pandas as pd\n",
    "\n",
    "df = pd.read_excel(\"accounts.xlsx\", sheet_name=\"Logs\")\n",
    "df[\"Revenue\"].hist(bins=30, color=\"skyblue\", edgecolor=\"black\")\n",
    "plt.title(\"Revenue Distribution\")\n",
    "plt.xlabel(\"Revenue\")\n",
    "plt.ylabel(\"Frequency\")\n",
    "plt.show()"
   ]
  },
  {
   "cell_type": "markdown",
   "id": "a59592fe",
   "metadata": {},
   "source": [
    "### Bar Chart (Change Over Unit)"
   ]
  },
  {
   "cell_type": "code",
   "execution_count": null,
   "id": "5a8dbdee",
   "metadata": {},
   "outputs": [],
   "source": [
    "import matplotlib.pyplot as plt\n",
    "import pandas as pd\n",
    "\n",
    "df = pd.read_excel(\"accounts.xlsx\", sheet_name=\"Logs\")\n",
    "df[\"Sector\"].value_counts().plot.bar(color=\"orange\")\n",
    "plt.title(\"Companies per Sector\")\n",
    "plt.xlabel(\"Sector\")\n",
    "plt.ylabel(\"Count\")\n",
    "plt.show()"
   ]
  },
  {
   "cell_type": "markdown",
   "id": "3ef19545",
   "metadata": {},
   "source": [
    "### Scatter Plot Chart (Spatial Relationship)"
   ]
  },
  {
   "cell_type": "code",
   "execution_count": null,
   "id": "2c0b4668",
   "metadata": {},
   "outputs": [],
   "source": [
    "import matplotlib.pyplot as plt\n",
    "import pandas as pd\n",
    "\n",
    "df = pd.read_excel(\"accounts.xlsx\", sheet_name=\"Logs\")\n",
    "df[\"Office Location\"].value_counts().head(5).plot.pie()\n",
    "plt.title(\"Top 5 Office Locations (Share)\")\n",
    "plt.xlabel(\"Sector\")\n",
    "plt.ylabel(\"\")\n",
    "plt.show()"
   ]
  },
  {
   "cell_type": "markdown",
   "id": "a22acd46",
   "metadata": {},
   "source": [
    "### Pie Chart (Percent Composition)"
   ]
  },
  {
   "cell_type": "code",
   "execution_count": null,
   "id": "548b63e3",
   "metadata": {},
   "outputs": [],
   "source": [
    "import matplotlib.pyplot as plt\n",
    "import pandas as pd\n",
    "\n",
    "df = pd.read_excel(\"accounts.xlsx\", sheet_name=\"Logs\")\n",
    "df[\"Office Location\"].value_counts().head(5).plot.pie()\n",
    "plt.title(\"Top 5 Office Locations (Share)\")\n",
    "plt.xlabel(\"Sector\")\n",
    "plt.ylabel(\"\")\n",
    "plt.show()"
   ]
  },
  {
   "cell_type": "markdown",
   "id": "d44ad562",
   "metadata": {},
   "source": [
    "### Box Plot (Statistics Summary)"
   ]
  },
  {
   "cell_type": "markdown",
   "id": "793ea074",
   "metadata": {},
   "source": [
    "import matplotlib.pyplot as plt\n",
    "import pandas as pd\n",
    "\n",
    "df = pd.read_excel(\"accounts.xlsx\", sheet_name=\"Logs\")\n",
    "df.boxplot(column=\"Revenue\", by=\"Sector\")\n",
    "plt.title(\"Revenue Distribution by Sector\")\n",
    "plt.xlabel(\"Sector\")\n",
    "plt.ylabel(\"Revenue\")\n",
    "plt.tight_layout()\n",
    "plt.show()"
   ]
  },
  {
   "cell_type": "markdown",
   "id": "41368e49",
   "metadata": {},
   "source": [
    "### Line Plot  (Change Over Unit)"
   ]
  },
  {
   "cell_type": "code",
   "execution_count": null,
   "id": "8e5a0a59",
   "metadata": {},
   "outputs": [],
   "source": [
    "import matplotlib.pyplot as plt\n",
    "import pandas as pd\n",
    "\n",
    "df = pd.read_excel(\"accounts.xlsx\", sheet_name=\"Logs\")\n",
    "df.groupby(\"Year Established\")[\"Revenue\"].mean().plot.line()\n",
    "plt.title(\"Average Revenue by Year Established\")\n",
    "plt.xlabel(\"Year\")\n",
    "plt.ylabel(\"Average Revenue\")\n",
    "plt.show()"
   ]
  },
  {
   "cell_type": "markdown",
   "id": "62191029",
   "metadata": {},
   "source": [
    "### Stacked Bar Chart (Composition + Growth)"
   ]
  },
  {
   "cell_type": "code",
   "execution_count": null,
   "id": "3d35617c",
   "metadata": {},
   "outputs": [],
   "source": [
    "import matplotlib.pyplot as plt\n",
    "import pandas as pd\n",
    "\n",
    "df = pd.read_excel(\"accounts.xlsx\", sheet_name=\"Logs\")\n",
    "stack_data = df.groupby([\"Year Established\", \"Sector\"])\n",
    "stack_data = stack_data.size().unstack().fillna(0)\n",
    "\n",
    "stack_data.plot.bar(stacked=True)\n",
    "plt.title(\"Companies per Year by Sector\")\n",
    "plt.xlabel(\"Year Established\")\n",
    "plt.ylabel(\"Company Count\")\n",
    "plt.tight_layout()\n",
    "plt.show()"
   ]
  }
 ],
 "metadata": {
  "kernelspec": {
   "display_name": "base",
   "language": "python",
   "name": "python3"
  },
  "language_info": {
   "name": "python",
   "version": "3.11.5"
  }
 },
 "nbformat": 4,
 "nbformat_minor": 5
}
